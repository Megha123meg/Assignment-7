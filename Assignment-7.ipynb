{
 "cells": [
  {
   "cell_type": "markdown",
   "id": "d3b7f2e5-6816-4624-ae85-f64d0d0c8824",
   "metadata": {},
   "source": [
    "Q.1. Create two int type variables, apply addition, subtraction, division and multiplications\n",
    "and store the results in variables. Then print the data in the following format by calling the\n",
    "variables:\n",
    "First variable is __ & second variable is __.\n",
    "Addition: __ + __ = __\n",
    "Subtraction: __ - __ = __\n",
    "Multiplication: __ * __ = __\n",
    "Division: __ / __ = __"
   ]
  },
  {
   "cell_type": "code",
   "execution_count": 2,
   "id": "73c7e5ac-94d2-40f8-9e89-d0a9c5ebef70",
   "metadata": {},
   "outputs": [
    {
     "name": "stdin",
     "output_type": "stream",
     "text": [
      "Enter the value: 5\n",
      "Enter the value: 10\n"
     ]
    },
    {
     "name": "stdout",
     "output_type": "stream",
     "text": [
      "First variable is 5 & second variable is 10\n",
      "Addition:5+10=15\n",
      "Subtraction:5-10=-5\n",
      "Multiplication:5*10=50\n",
      "Division:5/10=0.5\n"
     ]
    }
   ],
   "source": [
    "a=int(input(\"Enter the value:\"))\n",
    "b=int(input(\"Enter the value:\"))\n",
    "\n",
    "print(f'First variable is {a} & second variable is {b}')\n",
    "print(f'Addition:{a}+{b}={a+b}')\n",
    "print(f'Subtraction:{a}-{b}={a-b}')\n",
    "print(f'Multiplication:{a}*{b}={a*b}')\n",
    "print(f'Division:{a}/{b}={a/b}')"
   ]
  },
  {
   "cell_type": "markdown",
   "id": "e2488c46-2a92-4c91-8c85-4fad94c9d2c9",
   "metadata": {},
   "source": [
    "Q.2. What is the difference between the following operators:\n",
    "(i) ‘/’ & ‘//’\n",
    "(ii) ‘**’ & ‘^’"
   ]
  },
  {
   "cell_type": "markdown",
   "id": "8a0542d3-906d-45e3-860c-525cbffa7faf",
   "metadata": {},
   "source": [
    "'/' is used for division operator\n",
    "'//' is called modulus division or floor division\n",
    "\n",
    "/ gives you float value including decimals where as // rounds off the value to its nearest integer\n"
   ]
  },
  {
   "cell_type": "code",
   "execution_count": 8,
   "id": "47911214-9591-41a2-988a-583b9b199f38",
   "metadata": {},
   "outputs": [
    {
     "name": "stdout",
     "output_type": "stream",
     "text": [
      "2.2\n",
      "2\n"
     ]
    }
   ],
   "source": [
    "print(11/5)\n",
    "print(11//5)"
   ]
  },
  {
   "cell_type": "markdown",
   "id": "0c220390-2a22-4abb-ab8a-6a1436ad3494",
   "metadata": {},
   "source": [
    "'**'  This operator represents exponentiation or raising a number to a power. It raises the left operand to the power of the right operand.\n",
    "\n",
    "\n",
    "'^' The '^' symbol does not typically represent exponentiation in most programming languages. Instead, it is often used to denote other operations \n",
    "    such as bitwise XOR (exclusive OR) or logical XOR."
   ]
  },
  {
   "cell_type": "code",
   "execution_count": 9,
   "id": "3799a651-6d26-43b5-97b9-b2f76afbd6e4",
   "metadata": {},
   "outputs": [
    {
     "name": "stdout",
     "output_type": "stream",
     "text": [
      "8\n",
      "1\n"
     ]
    }
   ],
   "source": [
    "print(2**3)\n",
    "print(2^3)"
   ]
  },
  {
   "cell_type": "markdown",
   "id": "d867b678-c8d7-461c-abbe-d405d530ef6e",
   "metadata": {},
   "source": [
    "3.List the logical operators.\n",
    "\n",
    "AND (represented by 'and' or '&&'): Returns true if both operands are true, and false otherwise.\n",
    "\n",
    "OR (represented by 'or' or '||'): Returns true if at least one of the operands is true, and false if both operands are false.\n",
    "\n",
    "NOT (represented by 'not' or '!'): Reverses the logical value of the operand. If the operand is true, it returns false, and if the operand is false, it returns true.\n",
    "\n",
    "XOR (Exclusive OR):\n",
    "The XOR operator returns true if the number of true inputs is odd, and false if the number of true inputs is even. It evaluates to true when the inputs differ. In other words, it returns true if and only if exactly one of the operands is true, and false otherwise.\n",
    "\n",
    "NAND (NOT AND):\n",
    "The NAND operator returns true unless both of its inputs are true. It negates the result of the AND operator. In other words, it returns false only when both operands are true; otherwise, it returns true.\n",
    "\n",
    "NOR (NOT OR):\n",
    "The NOR operator returns true only when both of its inputs are false. It negates the result of the OR operator. In other words, it returns true if and only if both operands are false; otherwise, it returns false."
   ]
  },
  {
   "cell_type": "markdown",
   "id": "0e7da269-b073-4c7d-b566-da739738963c",
   "metadata": {},
   "source": [
    "Q.4. Explain right shift operator and left shift operator with examples.\n",
    "\n",
    "Right Shift Operator (>>):\n",
    "The right shift operator shifts the bits of a number to the right by a specified number of positions. It discards the rightmost bits and fills the leftmost bits with the sign bit (for signed numbers) or with zeros (for unsigned numbers). Each shift to the right effectively divides the number by 2.\n",
    "\n",
    "\n",
    "Left Shift Operator (<<):\n",
    "The left shift operator shifts the bits of a number to the left by a specified number of positions. It appends zeros to the rightmost positions. Each shift to the left effectively multiplies the number by 2.\n",
    "\n"
   ]
  },
  {
   "cell_type": "code",
   "execution_count": 15,
   "id": "906178e3-406b-43da-9732-401b12fd7efc",
   "metadata": {},
   "outputs": [
    {
     "name": "stdout",
     "output_type": "stream",
     "text": [
      "Right shift operation of 7=1\n",
      "Left shift operation of 7=28\n"
     ]
    }
   ],
   "source": [
    "x = 7\n",
    "print(f'Right shift operation of {x}={x>>2}')\n",
    "print(f'Left shift operation of {x}={x<<2}')\n"
   ]
  },
  {
   "cell_type": "markdown",
   "id": "03934750-a12a-4a4c-857b-8f11a1909eb6",
   "metadata": {},
   "source": [
    "Q.5. Create a list containing int type data of length 15. Then write a code to check if 10 is\n",
    "present in the list or not."
   ]
  },
  {
   "cell_type": "code",
   "execution_count": 18,
   "id": "5fdc686c-454b-4a58-b312-751dee2fce8d",
   "metadata": {},
   "outputs": [
    {
     "name": "stdin",
     "output_type": "stream",
     "text": [
      "Enter the value: 1\n",
      "Enter the value: 2\n",
      "Enter the value: 3\n",
      "Enter the value: 4\n",
      "Enter the value: 2\n",
      "Enter the value: 1\n",
      "Enter the value: 3\n",
      "Enter the value: 10\n",
      "Enter the value: 2\n",
      "Enter the value: 4\n",
      "Enter the value: 2\n",
      "Enter the value: 4\n",
      "Enter the value: 23\n",
      "Enter the value: 3\n",
      "Enter the value: 23\n"
     ]
    },
    {
     "name": "stdout",
     "output_type": "stream",
     "text": [
      "10  is present in the list\n"
     ]
    }
   ],
   "source": [
    "l=[]\n",
    "for  i in range(15):\n",
    "    a=int(input(\"Enter the value:\"))\n",
    "    l.append(a)\n",
    "\n",
    "x=0\n",
    "for i in l:\n",
    "    if i==10:\n",
    "        print(i,\" is present in the list\")\n",
    "        x+=1\n",
    "        \n",
    "if x==0:\n",
    "    print(i, \"is not present in the list\")\n",
    "\n"
   ]
  },
  {
   "cell_type": "code",
   "execution_count": null,
   "id": "4c7f32de-aba6-4f4a-86e5-135a61848b61",
   "metadata": {},
   "outputs": [],
   "source": []
  }
 ],
 "metadata": {
  "kernelspec": {
   "display_name": "Python 3 (ipykernel)",
   "language": "python",
   "name": "python3"
  },
  "language_info": {
   "codemirror_mode": {
    "name": "ipython",
    "version": 3
   },
   "file_extension": ".py",
   "mimetype": "text/x-python",
   "name": "python",
   "nbconvert_exporter": "python",
   "pygments_lexer": "ipython3",
   "version": "3.10.6"
  }
 },
 "nbformat": 4,
 "nbformat_minor": 5
}
